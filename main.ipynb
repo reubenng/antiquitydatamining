{
 "cells": [
  {
   "cell_type": "code",
   "execution_count": 5,
   "metadata": {},
   "outputs": [],
   "source": [
    "%matplotlib inline\n",
    "import numpy as np\n",
    "import pandas as pd\n",
    "import bs4 as bs\n",
    "import os, sys, re\n",
    "import nltk"
   ]
  },
  {
   "cell_type": "code",
   "execution_count": 6,
   "metadata": {},
   "outputs": [],
   "source": [
    "books = []\n",
    "folder = os.listdir(\"./data\")\n",
    "for i in folder:\n",
    "    book = open(\"./data/\"+i).read()\n",
    "    books.append(book) # combine all texts to 1 text"
   ]
  },
  {
   "cell_type": "code",
   "execution_count": 7,
   "metadata": {},
   "outputs": [],
   "source": [
    "stopwords = nltk.corpus.stopwords.words('english')\n",
    "from nltk.stem.snowball import SnowballStemmer\n",
    "stemmer = SnowballStemmer(\"english\")"
   ]
  },
  {
   "cell_type": "code",
   "execution_count": 8,
   "metadata": {},
   "outputs": [],
   "source": [
    "def tokenize_and_stem(text):\n",
    "    # first tokenize by sentence, then by word to ensure that punctuation is caught as it's own token\n",
    "    tokens = [word for sent in nltk.sent_tokenize(text) for word in nltk.word_tokenize(sent)]\n",
    "    filtered_tokens = []\n",
    "    # filter out any tokens not containing letters (e.g., numeric tokens, raw punctuation)\n",
    "    for token in tokens:\n",
    "        if re.search('[a-zA-Z]', token):\n",
    "            filtered_tokens.append(token)\n",
    "    stems = [stemmer.stem(t) for t in filtered_tokens]\n",
    "    return stems\n",
    "\n",
    "def tokenize_only(text):\n",
    "    # first tokenize by sentence, then by word to ensure that punctuation is caught as it's own token\n",
    "    tokens = [word.lower() for sent in nltk.sent_tokenize(text) for word in nltk.word_tokenize(sent)]\n",
    "    filtered_tokens = []\n",
    "    # filter out any tokens not containing letters (e.g., numeric tokens, raw punctuation)\n",
    "    for token in tokens:\n",
    "        if re.search('[a-zA-Z]', token):\n",
    "            filtered_tokens.append(token)\n",
    "    return filtered_tokens\n",
    "\n",
    "totalvocab_stemmed = []\n",
    "totalvocab_tokenized = []\n",
    "for book in books:\n",
    "    text = book.decode(\"utf-8\").strip()\n",
    "    allwords_stemmed = tokenize_and_stem(text)\n",
    "    totalvocab_stemmed.extend(allwords_stemmed)\n",
    "    \n",
    "    allwords_tokenized = tokenize_only(text)\n",
    "    totalvocab_tokenized.extend(allwords_tokenized)"
   ]
  },
  {
   "cell_type": "code",
   "execution_count": 9,
   "metadata": {},
   "outputs": [],
   "source": [
    "vocab_frame = pd.DataFrame({'words': totalvocab_tokenized}, index = totalvocab_stemmed)"
   ]
  },
  {
   "cell_type": "code",
   "execution_count": 10,
   "metadata": {},
   "outputs": [
    {
     "name": "stdout",
     "output_type": "stream",
     "text": [
      "CPU times: user 2min 38s, sys: 596 ms, total: 2min 38s\n",
      "Wall time: 2min 37s\n",
      "(24, 68298)\n"
     ]
    }
   ],
   "source": [
    "from sklearn.feature_extraction.text import TfidfVectorizer\n",
    "\n",
    "tfidf_vectorizer = TfidfVectorizer(max_df=0.9, max_features=300000,\n",
    "                                 min_df=0.1, stop_words='english',\n",
    "                                 use_idf=True, tokenizer=tokenize_and_stem, ngram_range=(2,2))\n",
    "\n",
    "%time tfidf_matrix = tfidf_vectorizer.fit_transform(books)\n",
    "\n",
    "print(tfidf_matrix.shape)"
   ]
  },
  {
   "cell_type": "code",
   "execution_count": 11,
   "metadata": {},
   "outputs": [],
   "source": [
    "terms = tfidf_vectorizer.get_feature_names()\n",
    "from sklearn.metrics.pairwise import cosine_similarity\n",
    "dist = 1 - cosine_similarity(tfidf_matrix)"
   ]
  },
  {
   "cell_type": "code",
   "execution_count": 30,
   "metadata": {},
   "outputs": [
    {
     "name": "stdout",
     "output_type": "stream",
     "text": [
      "CPU times: user 14.6 s, sys: 546 ms, total: 15.1 s\n",
      "Wall time: 2.55 s\n"
     ]
    }
   ],
   "source": [
    "from sklearn.cluster import KMeans\n",
    "\n",
    "num_clusters = 5\n",
    "\n",
    "km = KMeans(n_clusters=num_clusters)\n",
    "\n",
    "%time km.fit(tfidf_matrix)\n",
    "\n",
    "clusters = km.labels_.tolist()"
   ]
  },
  {
   "cell_type": "code",
   "execution_count": 31,
   "metadata": {},
   "outputs": [],
   "source": [
    "from sklearn.externals import joblib\n",
    "joblib.dump(km,  'doc_cluster.pkl')\n",
    "km = joblib.load('doc_cluster.pkl')\n",
    "clusters = km.labels_.tolist()"
   ]
  },
  {
   "cell_type": "code",
   "execution_count": 14,
   "metadata": {},
   "outputs": [],
   "source": [
    "def map_book_name(book):\n",
    "    books = {\n",
    "        'gap_2X5KAAAAYAAJ': 'CorneliusTacitus-1',\n",
    "        'gap_MEoWAAAAYAAJ': 'CorneliusTacitus-2',\n",
    "        'gap_pX5KAAAAYAAJ': 'CorneliusTacitus-3',\n",
    "        'gap_WORMAAAAYAAJ': 'CorneliusTacitus-4',\n",
    "\n",
    "        'gap_9ksIAAAAQAAJ': 'PeloponnesianWar-1',\n",
    "        'gap_fnAMAAAAYAAJ': 'PeloponnesianWar-2',\n",
    "        'gap_DhULAAAAYAAJ': 'TheDescriptionOfGreece-1',\n",
    "\n",
    "        'gap_aLcWAAAAQAAJ': 'RomanEmpire-1',\n",
    "        'gap_CSEUAAAAYAAJ': 'RomanEmpire-2',\n",
    "        'gap_GIt0HMhqjRgC': 'RomanEmpire-3',\n",
    "        'gap_IlUMAQAAMAAJ': 'RomanEmpire-4',\n",
    "        'gap_XmqHlMECi6kC': 'RomanEmpire-5',\n",
    "        'gap_VPENAAAAQAAJ': 'RomanEmpire-6',\n",
    "\n",
    "        'gap_Bdw_AAAAYAAJ': 'HistoryOfRome-Titus-Livius-1',\n",
    "        'gap_m_6B1DkImIoC': 'HistoryOfRome-Titus-Livius-2',\n",
    "        'gap_DqQNAAAAYAAJ': 'HistoryOfRome-Livy-1',\n",
    "        'gap_RqMNAAAAYAAJ': 'HistoryOfRome-Livy-2',\n",
    "\n",
    "        'gap_CnnUAAAAMAAJ': 'Josephus-1',\n",
    "        'gap_ogsNAAAAIAAJ': 'Josephus-2',\n",
    "        'gap_TgpMAAAAYAAJ': 'Josephus-3',\n",
    "        'gap_y-AvAAAAYAAJ': 'Josephus-4',\n",
    "\n",
    "        'gap_-C0BAAAAQAAJ': 'DictionaryOfGreekAndRomanGeography',\n",
    "        'gap_dIkBAAAAQAAJ': 'HistoryOfRome-1',\n",
    "        'gap_udEIAAAAQAAJ': 'NaturalHistoryOfPliny-1',\n",
    "    }\n",
    "\n",
    "    return books[book]"
   ]
  },
  {
   "cell_type": "code",
   "execution_count": 15,
   "metadata": {},
   "outputs": [],
   "source": [
    "titles = []\n",
    "for i in folder:\n",
    "    titles.append(map_book_name(i[:-4]))"
   ]
  },
  {
   "cell_type": "code",
   "execution_count": 19,
   "metadata": {},
   "outputs": [],
   "source": [
    "books_collection = { 'title': titles, 'books': books, 'cluster': clusters}"
   ]
  },
  {
   "cell_type": "code",
   "execution_count": 20,
   "metadata": {},
   "outputs": [
    {
     "data": {
      "text/plain": [
       "4    6\n",
       "1    6\n",
       "0    5\n",
       "2    4\n",
       "3    3\n",
       "Name: cluster, dtype: int64"
      ]
     },
     "execution_count": 20,
     "metadata": {},
     "output_type": "execute_result"
    }
   ],
   "source": [
    "frame = pd.DataFrame(books_collection, index = [clusters] , columns = ['title', 'cluster'])\n",
    "frame['cluster'].value_counts()"
   ]
  },
  {
   "cell_type": "code",
   "execution_count": 32,
   "metadata": {},
   "outputs": [
    {
     "name": "stdout",
     "output_type": "stream",
     "text": [
      "Top terms per cluster:\n",
      "Cluster 0 words: output,\n",
      " output,\n",
      " a.,\n",
      " u.,\n",
      " history,\n",
      " a.,\n",
      "Cluster 0 titles: HistoryOfRome-Titus-Livius-2,\n",
      " HistoryOfRome-1,\n",
      " HistoryOfRome-Livy-2,\n",
      " HistoryOfRome-Livy-1,\n",
      " HistoryOfRome-Titus-Livius-1,\n",
      "Cluster 1 words: output,\n",
      " decline,\n",
      " output,\n",
      " roman,\n",
      " fall,\n",
      " output,\n",
      "Cluster 1 titles: RomanEmpire-6,\n",
      " RomanEmpire-3,\n",
      " RomanEmpire-2,\n",
      " RomanEmpire-1,\n",
      " RomanEmpire-5,\n",
      " RomanEmpire-4,\n",
      "Cluster 2 words: peloponnesians,\n",
      " i.,\n",
      " output,\n",
      " output,\n",
      " city,\n",
      " b.,\n",
      "Cluster 2 titles: Josephus-2,\n",
      " Josephus-4,\n",
      " Josephus-1,\n",
      " Josephus-3,\n",
      "Cluster 3 words: output,\n",
      " book,\n",
      " titus,\n",
      " roman,\n",
      " military,\n",
      " any,\n",
      "Cluster 3 titles: PeloponnesianWar-1,\n",
      " TheDescriptionOfGreece-1,\n",
      " PeloponnesianWar-2,\n",
      "Cluster 4 words: antiquity,\n",
      " jews,\n",
      " output,\n",
      " output,\n",
      " herod,\n",
      " king,\n",
      "Cluster 4 titles: CorneliusTacitus-1,\n",
      " DictionaryOfGreekAndRomanGeography,\n",
      " CorneliusTacitus-3,\n",
      " CorneliusTacitus-2,\n",
      " NaturalHistoryOfPliny-1,\n",
      " CorneliusTacitus-4,\n"
     ]
    }
   ],
   "source": [
    "from __future__ import print_function\n",
    "\n",
    "print(\"Top terms per cluster:\")\n",
    "#sort cluster centers by proximity to centroid\n",
    "order_centroids = km.cluster_centers_.argsort()[:, ::-1] \n",
    "\n",
    "for i in range(5):\n",
    "    print(\"Cluster %d words:\" % i, end='')\n",
    "    \n",
    "    for ind in order_centroids[i, :6]: #replace 6 with n words per cluster\n",
    "        print(' %s' % vocab_frame.ix[terms[ind].split(' ')].values.tolist()[0][0].encode('utf-8', 'ignore'), end=',')\n",
    "        print()\n",
    "    print(\"Cluster %d titles:\" % i, end='')\n",
    "    for title in frame.ix[i]['title'].values.tolist():\n",
    "        print(' %s,' % title, end='')\n",
    "        print()"
   ]
  },
  {
   "cell_type": "code",
   "execution_count": 33,
   "metadata": {},
   "outputs": [],
   "source": [
    "import matplotlib.pyplot as plt\n",
    "import matplotlib as mpl\n",
    "\n",
    "from sklearn.manifold import MDS\n",
    "\n",
    "MDS()\n",
    "\n",
    "# convert two components as we're plotting points in a two-dimensional plane\n",
    "# \"precomputed\" because we provide a distance matrix\n",
    "# we will also specify `random_state` so the plot is reproducible.\n",
    "mds = MDS(n_components=2, dissimilarity=\"precomputed\", random_state=1)\n",
    "\n",
    "pos = mds.fit_transform(dist)  # shape (n_components, n_samples)\n",
    "\n",
    "xs, ys = pos[:, 0], pos[:, 1]\n",
    "\n",
    "#set up cluster names using a dict\n",
    "cluster_names = {0: 'consuls, samnites', \n",
    "                 1: 'emperor, christian', \n",
    "                 2: 'jews, jerusalem', \n",
    "                 3: 'athenians, peloponnesians', \n",
    "                 4: 'tacitus, legion'}"
   ]
  },
  {
   "cell_type": "code",
   "execution_count": 34,
   "metadata": {},
   "outputs": [
    {
     "data": {
      "image/png": "[encoded data removed]",
      "text/plain": [
       "<matplotlib.figure.Figure at 0x7f4552a0b9d0>"
      ]
     },
     "metadata": {},
     "output_type": "display_data"
    }
   ],
   "source": [
    "#create data frame that has the result of the MDS plus the cluster numbers and titles\n",
    "df = pd.DataFrame(dict(x=xs, y=ys, label=clusters, title=titles)) \n",
    "\n",
    "#group by cluster\n",
    "groups = df.groupby('label')\n",
    "\n",
    "\n",
    "# set up plot\n",
    "fig, ax = plt.subplots() # set size\n",
    "# ax.margins(0.05) # Optional, just adds 5% padding to the autoscaling\n",
    "\n",
    "#iterate through groups to layer the plot\n",
    "#note that I use the cluster_name and cluster_color dicts with the 'name' lookup to return the appropriate color/label\n",
    "for name, group in groups:\n",
    "    ax.plot(group.x, group.y, marker='o', linestyle='', ms=5, \n",
    "            label=cluster_names[name], \n",
    "            mec='none')\n",
    "#     ax.set_aspect('auto')\n",
    "#     ax.tick_params(\\\n",
    "#         axis= 'x',          # changes apply to the x-axis\n",
    "#         which='both',      # both major and minor ticks are affected\n",
    "#         bottom='off',      # ticks along the bottom edge are off\n",
    "#         top='off',         # ticks along the top edge are off\n",
    "#         labelbottom='off')\n",
    "#     ax.tick_params(\\\n",
    "#         axis= 'y',         # changes apply to the y-axis\n",
    "#         which='both',      # both major and minor ticks are affected\n",
    "#         left='off',      # ticks along the bottom edge are off\n",
    "#         top='off',         # ticks along the top edge are off\n",
    "#         labelleft='off')\n",
    "    \n",
    "ax.legend(loc='upper center', bbox_to_anchor=(0.5, 1.2),\n",
    "          ncol=3, fancybox=True, shadow=True)  #show legend with only 1 point\n",
    "\n",
    "#add label in x,y position with the label as the film title\n",
    "for i in range(len(df)):\n",
    "    ax.text(df.loc[i]['x'], df.loc[i]['y'], df.loc[i]['title'], size=8)  \n",
    "\n",
    "plt.show()"
   ]
  },
  {
   "cell_type": "code",
   "execution_count": 23,
   "metadata": {},
   "outputs": [
    {
     "data": {
      "text/plain": [
       "<matplotlib.figure.Figure at 0x7f4552867950>"
      ]
     },
     "metadata": {},
     "output_type": "display_data"
    }
   ],
   "source": [
    "plt.savefig('clusters.png', dpi=200)"
   ]
  },
  {
   "cell_type": "code",
   "execution_count": 26,
   "metadata": {},
   "outputs": [
    {
     "data": {
      "image/png": "[encoded data removed]",
      "text/plain": [
       "<matplotlib.figure.Figure at 0x7f45525b6b90>"
      ]
     },
     "metadata": {},
     "output_type": "display_data"
    }
   ],
   "source": [
    "from scipy.cluster.hierarchy import ward, dendrogram\n",
    "\n",
    "linkage_matrix = ward(dist) #define the linkage_matrix using ward clustering pre-computed distances\n",
    "\n",
    "fig, ax = plt.subplots() # set size\n",
    "ax = dendrogram(linkage_matrix, orientation=\"left\", labels=titles);\n",
    "\n",
    "plt.tick_params(\\\n",
    "    axis= 'x',          # changes apply to the x-axis\n",
    "    which='both',      # both major and minor ticks are affected\n",
    "    bottom='off',      # ticks along the bottom edge are off\n",
    "    top='off',         # ticks along the top edge are off\n",
    "    labelbottom='off')\n",
    "\n",
    "plt.tight_layout() #show plot with tight layout\n",
    "\n",
    "#uncomment below to save figure\n",
    "plt.savefig('ward_clusters.png', dpi=200) #save figure as ward_clusters"
   ]
  },
  {
   "cell_type": "code",
   "execution_count": 27,
   "metadata": {},
   "outputs": [
    {
     "data": {
      "text/plain": [
       "array([[ 4.        , 23.        ,  0.22589134,  2.        ],\n",
       "       [14.        , 17.        ,  0.52268558,  2.        ],\n",
       "       [15.        , 20.        ,  0.57513079,  2.        ],\n",
       "       [13.        , 24.        ,  0.69932428,  3.        ],\n",
       "       [ 5.        , 19.        ,  0.7488112 ,  2.        ],\n",
       "       [ 3.        , 12.        ,  0.81916772,  2.        ],\n",
       "       [ 7.        , 25.        ,  0.8797596 ,  3.        ],\n",
       "       [ 8.        , 27.        ,  0.95069092,  4.        ],\n",
       "       [ 0.        , 10.        ,  0.96156576,  2.        ],\n",
       "       [ 1.        , 31.        ,  0.97731425,  5.        ],\n",
       "       [ 6.        , 21.        ,  1.0864087 ,  2.        ],\n",
       "       [22.        , 26.        ,  1.29003095,  3.        ],\n",
       "       [16.        , 29.        ,  1.29207201,  3.        ],\n",
       "       [ 9.        , 18.        ,  1.30055804,  2.        ],\n",
       "       [11.        , 32.        ,  1.31912395,  3.        ],\n",
       "       [ 2.        , 37.        ,  1.40457974,  3.        ],\n",
       "       [34.        , 39.        ,  1.48339727,  5.        ],\n",
       "       [35.        , 38.        ,  1.72253027,  6.        ],\n",
       "       [28.        , 40.        ,  1.90631645,  7.        ],\n",
       "       [41.        , 42.        ,  2.15103623, 13.        ],\n",
       "       [30.        , 36.        ,  2.16149436,  6.        ],\n",
       "       [43.        , 44.        ,  2.80847   , 19.        ],\n",
       "       [33.        , 45.        ,  3.99577022, 24.        ]])"
      ]
     },
     "execution_count": 27,
     "metadata": {},
     "output_type": "execute_result"
    }
   ],
   "source": [
    "linkage_matrix"
   ]
  },
  {
   "cell_type": "code",
   "execution_count": null,
   "metadata": {},
   "outputs": [],
   "source": []
  }
 ],
 "metadata": {
  "kernelspec": {
   "display_name": "Python 2",
   "language": "python",
   "name": "python2"
  },
  "language_info": {
   "codemirror_mode": {
    "name": "ipython",
    "version": 2
   },
   "file_extension": ".py",
   "mimetype": "text/x-python",
   "name": "python",
   "nbconvert_exporter": "python",
   "pygments_lexer": "ipython2",
   "version": "2.7.14"
  }
 },
 "nbformat": 4,
 "nbformat_minor": 2
}
