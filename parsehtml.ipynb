{
 "cells": [
  {
   "cell_type": "code",
   "execution_count": 23,
   "metadata": {},
   "outputs": [],
   "source": [
    "import bs4 as bs\n",
    "import os, sys"
   ]
  },
  {
   "cell_type": "code",
   "execution_count": 34,
   "metadata": {},
   "outputs": [
    {
     "ename": "IndentationError",
     "evalue": "expected an indented block (<ipython-input-34-6af5d46646a1>, line 7)",
     "output_type": "error",
     "traceback": [
      "\u001b[0;36m  File \u001b[0;32m\"<ipython-input-34-6af5d46646a1>\"\u001b[0;36m, line \u001b[0;32m7\u001b[0m\n\u001b[0;31m    \u001b[0m\n\u001b[0m    ^\u001b[0m\n\u001b[0;31mIndentationError\u001b[0m\u001b[0;31m:\u001b[0m expected an indented block\n"
     ]
    }
   ],
   "source": [
    "ori_folders = os.listdir(\"./gap-html\") # list of folders in original folder\n",
    "texts = os.listdir(\"./data\") # list of processed text files\n",
    "\n",
    "# process all htmls in a folder into one text file\n",
    "if len(texts) <= 0: # if there is no processed text\n",
    "    for f in ori_folders: # for every folder in original data\n",
    "        "
   ]
  },
  {
   "cell_type": "code",
   "execution_count": 32,
   "metadata": {},
   "outputs": [
    {
     "name": "stdout",
     "output_type": "stream",
     "text": [
      "['', '', '', 'OCR Output', \"\", \"\", \"\", \"\", \"\", \"\", \"\", \"\", 'A. C. 69.] LIBER I. CAP. LXXX, LXXXI.', '', '', \"\", 'duro corio consertum, ut adversus ictus impenetiabile, itaimpetu hostium provolutis inhabile ad resurgendum : simulaltitudine et mollitia nivis. hauriebantur. Romanus milesfaeilis lorica et missili pilo aut lanceis ^assultans, ubi resposceret^ levi gladio inermem Sarmatam (neque enim scuto 5defendi mos est) ^ominus fodiebat, donee pauci, qui proeliosuperfuerant, paludibus abderentur. Ibi saevitia hiemiset vi vulnerum absumpti. Postquam id Romae compertum,M. Aponius. Moesiam obtinensWiumphalf statua, FulviusAurelius et Julianus Titius ac Humisius Lupus legati legio- 10num consularibus ornamentis^donantur, laeto Othone etgloriam in se trahente, tanquam et ipse felix bello et suisducibus suisque exercitibus rempublicam auxisset.', '', 'LXXX. Parvo interim initio, unde nihil timebatur, ortaseditio prope urbi excidio fuit. Septimam decimam cohor- 15tem e colonia Ostiensi in urbem acciri Otho jusserat: ar-mandae ejus cura Vario Crispino tribuno e praetorianis^lata. Is quo\\' magis vacuus quietis castris jussa exsequere-tur, vehicula cohortis incipiente nocte onerari, aperto arma-mentario, jubet. Tempus in suspicionem, causa in crimen, 20affectatio quietiS in tumultum evaluit; et visa inter temu-lentos arma cupldinem sui movere. Fremit miles, et tri-bunos centurionesque proditionis arguit, tanquam familiaesenatorum ad perniciem Othonis armarentur, pars ignari etvino graves, pessimus quisque in occasionem praedarum, 25vulgus, ut mos est, cujuscumque motus novi cupidum; etobsequia meliorum nox abstulerat. Resistentem seditionitribunum et severissimos centurionum obtruncant: raptaarma, nudati gladii, insidentes equis urbem ac palatiumpetunt.^- 30', '', 'LXXXI. Erat Othoni celebre convivium primoribus fe-minis virisque: qui trepidi, fortuitusne militum furor andolus imperatoris,\\' manere ac deprehendi an fugere et dis-pergi periculosius^oret, modo constantiam simulare, modoformidine detegi, simul Othonis vultum intueri: utque 35evenit inclinatis ad suspicionem mentibus, cum timeretOtho, timeba.tu\\xc2\\xa3 Sed haud secus discrimine senatus quamsuo^territus.et praefe^ctos praetorii ad mitigandas militum', '', '', '', '', '']\n"
     ]
    }
   ],
   "source": [
    "rand_stock = open(\"./gap-html/gap_WORMAAAAYAAJ/00000071.html\").read().split('\\n')\n",
    "soup = bs.BeautifulSoup(str(rand_stock))\n",
    "for script in soup([\"script\", \"style\"]):\n",
    "    script.extract()    # rip it out\n",
    "text = soup.get_text()\n",
    "lines = (line.strip() for line in text.splitlines())\n",
    "chunks = (phrase.strip() for line in lines for phrase in line.split(\"  \"))\n",
    "# drop blank lines\n",
    "text = '\\n'.join(chunk for chunk in chunks if chunk)\n",
    "\n",
    "print(text)\n"
   ]
  }
 ],
 "metadata": {
  "kernelspec": {
   "display_name": "Python 2",
   "language": "python",
   "name": "python2"
  },
  "language_info": {
   "codemirror_mode": {
    "name": "ipython",
    "version": 2
   },
   "file_extension": ".py",
   "mimetype": "text/x-python",
   "name": "python",
   "nbconvert_exporter": "python",
   "pygments_lexer": "ipython2",
   "version": "2.7.14"
  }
 },
 "nbformat": 4,
 "nbformat_minor": 2
}
